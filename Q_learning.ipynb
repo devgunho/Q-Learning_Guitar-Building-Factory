{
 "cells": [
  {
   "cell_type": "code",
   "execution_count": 1,
   "metadata": {
    "ExecuteTime": {
     "end_time": "2020-12-21T08:49:41.051543Z",
     "start_time": "2020-12-21T08:49:41.047611Z"
    }
   },
   "outputs": [],
   "source": [
    "location_to_state = {\n",
    "    'L1': 0,\n",
    "    'L2': 1,\n",
    "    'L3': 2,\n",
    "    'L4': 3,\n",
    "    'L5': 4,\n",
    "    'L6': 5,\n",
    "    'L7': 6,\n",
    "    'L8': 7,\n",
    "    'L9': 8\n",
    "}"
   ]
  },
  {
   "cell_type": "code",
   "execution_count": 2,
   "metadata": {
    "ExecuteTime": {
     "end_time": "2020-12-21T08:49:42.316429Z",
     "start_time": "2020-12-21T08:49:42.163136Z"
    }
   },
   "outputs": [],
   "source": [
    "import numpy as np"
   ]
  },
  {
   "cell_type": "code",
   "execution_count": 3,
   "metadata": {
    "ExecuteTime": {
     "end_time": "2020-12-21T08:49:49.552439Z",
     "start_time": "2020-12-21T08:49:49.549511Z"
    }
   },
   "outputs": [],
   "source": [
    "actions = [0, 1, 2, 3, 4, 5, 6, 7, 8]"
   ]
  },
  {
   "cell_type": "code",
   "execution_count": 4,
   "metadata": {
    "ExecuteTime": {
     "end_time": "2020-12-21T08:49:53.828314Z",
     "start_time": "2020-12-21T08:49:53.819532Z"
    }
   },
   "outputs": [],
   "source": [
    "# Define the rewards\n",
    "rewards = np.array([[0, 1, 0, 0, 0, 0, 0, 0, 0],\n",
    "                    [1, 0, 1, 0, 0, 0, 0, 0, 0],\n",
    "                    [0, 1, 0, 0, 0, 1, 0, 0, 0],\n",
    "                    [0, 0, 0, 0, 0, 0, 1, 0, 0],\n",
    "                    [0, 1, 0, 0, 0, 0, 0, 1, 0],\n",
    "                    [0, 0, 1, 0, 0, 0, 0, 0, 0],\n",
    "                    [0, 0, 0, 1, 0, 0, 0, 1, 0],\n",
    "                    [0, 0, 0, 0, 1, 0, 1, 0, 1],\n",
    "                    [0, 0, 0, 0, 0, 0, 0, 1, 0]])"
   ]
  },
  {
   "cell_type": "code",
   "execution_count": 5,
   "metadata": {
    "ExecuteTime": {
     "end_time": "2020-12-21T08:49:57.734000Z",
     "start_time": "2020-12-21T08:49:57.730096Z"
    }
   },
   "outputs": [
    {
     "name": "stdout",
     "output_type": "stream",
     "text": [
      "{0: 'L1', 1: 'L2', 2: 'L3', 3: 'L4', 4: 'L5', 5: 'L6', 6: 'L7', 7: 'L8', 8: 'L9'}\n"
     ]
    }
   ],
   "source": [
    "# Maps indices to locations\n",
    "state_to_location = dict((state, location) for location, state in\n",
    "                         location_to_state.items())\n",
    "print(state_to_location)"
   ]
  },
  {
   "cell_type": "code",
   "execution_count": 6,
   "metadata": {
    "ExecuteTime": {
     "end_time": "2020-12-21T08:50:43.514847Z",
     "start_time": "2020-12-21T08:50:43.510943Z"
    }
   },
   "outputs": [],
   "source": [
    "# Initialize parameters\n",
    "gamma = 0.75  # Discount factor\n",
    "alpha = 0.9  # Learning rate"
   ]
  },
  {
   "cell_type": "code",
   "execution_count": 7,
   "metadata": {
    "ExecuteTime": {
     "end_time": "2020-12-21T08:52:29.376955Z",
     "start_time": "2020-12-21T08:52:29.368172Z"
    }
   },
   "outputs": [],
   "source": [
    "def get_optimal_route(start_location, end_location):\n",
    "    rewards_new = np.copy(rewards)\n",
    "    ending_state = location_to_state[end_location]\n",
    "    rewards_new[ending_state, ending_state] = 999\n",
    "\n",
    "    Q = np.array(np.zeros([9, 9]))\n",
    "\n",
    "    # Q-Learning process\n",
    "    for i in range(1000):\n",
    "        # Picking up a random state\n",
    "        current_state = np.random.randint(0, 9)\n",
    "        # Python excludes the upper bound\n",
    "        playable_actions = []\n",
    "        # Iterating through the new rewards matrix\n",
    "        for j in range(9):\n",
    "            if rewards_new[current_state, j] > 0:\n",
    "                playable_actions.append(j)\n",
    "        # Pick a random action that will lead us to next state\n",
    "        next_state = np.random.choice(playable_actions)\n",
    "        # Computing Temporal Difference\n",
    "        TD = rewards_new[current_state, next_state] + gamma * Q[next_state,\n",
    "                                                                np.argmax(Q[next_state, ])] - Q[current_state, next_state]\n",
    "        # Updating the Q-Value using the Bellman equation\n",
    "        Q[current_state, next_state] += alpha * TD\n",
    "\n",
    "    # Initialize the optimal route with the starting location\n",
    "    route = [start_location]\n",
    "    # Initialize next_location with starting location\n",
    "    next_location = start_location\n",
    "\n",
    "    # We don't know about the exact number of iterations\n",
    "    # needed to reach to the final location hence while loop\n",
    "    # will be a good choice for iteratiing\n",
    "    while(next_location != end_location):\n",
    "        # Fetch the starting state\n",
    "        starting_state = location_to_state[start_location]\n",
    "        # Fetch the highest Q-value pertaining to starting state\n",
    "        next_state = np.argmax(Q[starting_state, ])\n",
    "        # We got the index of the next state.\n",
    "        # But we need the corresponding letter.\n",
    "        next_location = state_to_location[next_state]\n",
    "        route.append(next_location)\n",
    "        # Update the starting location for the next iteration\n",
    "        start_location = next_location\n",
    "\n",
    "    print(Q)\n",
    "\n",
    "    return route"
   ]
  },
  {
   "cell_type": "code",
   "execution_count": 8,
   "metadata": {
    "ExecuteTime": {
     "end_time": "2020-12-21T08:52:32.643800Z",
     "start_time": "2020-12-21T08:52:32.616471Z"
    }
   },
   "outputs": [
    {
     "name": "stdout",
     "output_type": "stream",
     "text": [
      "[[3995.99967127 2249.4994434     0.            0.            0.\n",
      "     0.            0.            0.            0.        ]\n",
      " [2997.9997534     0.         1688.12477785    0.            0.\n",
      "     0.            0.            0.            0.        ]\n",
      " [   0.         2249.49977404    0.            0.            0.\n",
      "  1267.09319909    0.            0.            0.        ]\n",
      " [   0.            0.            0.            0.            0.\n",
      "     0.          951.31899927    0.            0.        ]\n",
      " [   0.         2249.49972773    0.            0.            0.\n",
      "     0.            0.         1267.093371      0.        ]\n",
      " [   0.            0.         1688.12477402    0.            0.\n",
      "     0.            0.            0.            0.        ]\n",
      " [   0.            0.            0.          714.48561111    0.\n",
      "     0.            0.         1267.09271768    0.        ]\n",
      " [   0.            0.            0.            0.         1688.12478504\n",
      "     0.          951.3189839     0.          951.31400724]\n",
      " [   0.            0.            0.            0.            0.\n",
      "     0.            0.         1267.0935082     0.        ]]\n",
      "['L8', 'L5', 'L2', 'L1']\n"
     ]
    }
   ],
   "source": [
    "print(get_optimal_route('L8', 'L1'))"
   ]
  },
  {
   "cell_type": "code",
   "execution_count": 9,
   "metadata": {
    "ExecuteTime": {
     "end_time": "2020-12-21T08:54:17.871614Z",
     "start_time": "2020-12-21T08:54:17.846237Z"
    }
   },
   "outputs": [
    {
     "name": "stdout",
     "output_type": "stream",
     "text": [
      "[[3995.95832338 2249.41528421    0.            0.            0.\n",
      "     0.            0.            0.            0.        ]\n",
      " [2997.9686469     0.         1688.07265494    0.            0.\n",
      "     0.            0.            0.            0.        ]\n",
      " [   0.         2249.43306148    0.            0.            0.\n",
      "  1267.05564054    0.            0.            0.        ]\n",
      " [   0.            0.            0.            0.            0.\n",
      "     0.          951.28427242    0.            0.        ]\n",
      " [   0.         2249.46884722    0.            0.            0.\n",
      "     0.            0.         1267.04616974    0.        ]\n",
      " [   0.            0.         1688.07479298    0.            0.\n",
      "     0.            0.            0.            0.        ]\n",
      " [   0.            0.            0.          714.46053723    0.\n",
      "     0.            0.         1267.04569751    0.        ]\n",
      " [   0.            0.            0.            0.         1688.06168357\n",
      "     0.          951.28389811    0.          951.28447062]\n",
      " [   0.            0.            0.            0.            0.\n",
      "     0.            0.         1267.04620617    0.        ]]\n",
      "['L7', 'L8', 'L5', 'L2', 'L1']\n"
     ]
    }
   ],
   "source": [
    "print(get_optimal_route('L7', 'L1'))"
   ]
  }
 ],
 "metadata": {
  "kernelspec": {
   "display_name": "Python 3",
   "language": "python",
   "name": "python3"
  },
  "language_info": {
   "codemirror_mode": {
    "name": "ipython",
    "version": 3
   },
   "file_extension": ".py",
   "mimetype": "text/x-python",
   "name": "python",
   "nbconvert_exporter": "python",
   "pygments_lexer": "ipython3",
   "version": "3.7.6"
  }
 },
 "nbformat": 4,
 "nbformat_minor": 4
}
